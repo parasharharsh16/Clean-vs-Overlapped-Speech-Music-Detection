{
 "cells": [
  {
   "cell_type": "code",
   "execution_count": 1,
   "metadata": {},
   "outputs": [],
   "source": [
    "from dataloader import SignalDataset,dataloader \n",
    "from param import dataset_path,sample_universe_size,sampling_rate\n",
    "from utils import prepare_data, mix_signals,load_audio,load_music\n",
    "import torch\n",
    "from torch.utils.data import ConcatDataset\n",
    "import os\n",
    "from param import (\n",
    "    dataset_path,\n",
    "    sample_universe_size,\n",
    "    data_dir,\n",
    "    hyper_parameters as hp,\n",
    "    model_1,\n",
    ")\n",
    "from sklearn.metrics import f1_score, precision_score, recall_score"
   ]
  },
  {
   "cell_type": "code",
   "execution_count": 2,
   "metadata": {},
   "outputs": [],
   "source": [
    "#Call this code in train and evaluate functions (to be deleted later)\n",
    "data_dir = r\"../data\"\n",
    "model_dir = r\"../models\"\n",
    "data_file = os.path.join(data_dir, \"dataset.pth\")\n",
    "if \"dataset.pth\" in os.listdir(data_dir):\n",
    "    combined_dataset = torch.load(data_file)\n",
    "else:\n",
    "    # Prepare data\n",
    "    combination_paths = prepare_data(dataset_path)\n",
    "    sampled_df = combination_paths.sample(\n",
    "        frac=sample_universe_size, random_state=42, ignore_index=True\n",
    "    )\n",
    "    datasets_music = SignalDataset(sampled_df, data_type=\"music\")\n",
    "    datasets_speech = SignalDataset(sampled_df, data_type=\"speech\")\n",
    "    datasets_mixture = SignalDataset(sampled_df, data_type=\"mixture\")\n",
    "    combined_dataset = ConcatDataset(\n",
    "        [datasets_music, datasets_speech, datasets_mixture]\n",
    "    )\n",
    "    torch.save(combined_dataset, data_file)\n"
   ]
  },
  {
   "cell_type": "code",
   "execution_count": 3,
   "metadata": {},
   "outputs": [],
   "source": [
    "train_loader, test_loader = dataloader(\n",
    "    datasets=combined_dataset,\n",
    "    train_ratio=hp[\"train_ratio\"],\n",
    "    train_batch_size=hp[\"batch_size\"],\n",
    "    test_batch_size=1,\n",
    ")"
   ]
  },
  {
   "cell_type": "code",
   "execution_count": 4,
   "metadata": {},
   "outputs": [],
   "source": [
    "def calculate_metrics(predictions, targets):\n",
    "    # Convert predictions and targets to tensors if they're not already\n",
    "    if not isinstance(predictions, torch.Tensor):\n",
    "        predictions = torch.tensor(predictions)\n",
    "    if not isinstance(targets, torch.Tensor):\n",
    "        targets = torch.tensor(targets)\n",
    "\n",
    "    # Calculate true positives, false positives, and false negatives\n",
    "    true_positives = torch.sum(predictions * targets).float()\n",
    "    false_positives = torch.sum(predictions * (1 - targets)).float()\n",
    "    false_negatives = torch.sum((1 - predictions) * targets).float()\n",
    "\n",
    "    # Calculate precision\n",
    "    precision = true_positives / (true_positives + false_positives + 1e-10)\n",
    "\n",
    "    # Calculate recall\n",
    "    recall = true_positives / (true_positives + false_negatives + 1e-10)\n",
    "\n",
    "    # Calculate F1 score\n",
    "    f1_score = 2 * (precision * recall) / (precision + recall + 1e-10)\n",
    "\n",
    "    return precision.item(), recall.item(), f1_score.item()\n",
    "\n"
   ]
  },
  {
   "cell_type": "code",
   "execution_count": 5,
   "metadata": {},
   "outputs": [
    {
     "data": {
      "text/plain": [
       "<All keys matched successfully>"
      ]
     },
     "execution_count": 5,
     "metadata": {},
     "output_type": "execute_result"
    }
   ],
   "source": [
    "# Assuming your model architecture is defined in a separate file or module\n",
    "from MTL_w_cascade_info import MtlCascadeModel\n",
    "from param import hyper_parameters as hp\n",
    "# Path to the state dict file\n",
    "state_dict_path = '/home/hparashar/mtech_projects/speech_understanding/Speech-Understanding-Minor/model/model_0.001.pth'\n",
    "hyper_parameters = {\n",
    "    \"n_layers\": 1,\n",
    "    \"sp_hidden_nodes\": 20,\n",
    "    \"n_sp_hidden_lyrs\": 1,\n",
    "    \"mu_hidden_nodes\": 20,\n",
    "    \"n_mu_hidden_lyrs\": 1,\n",
    "    \"smr_hidden_nodes\": 20,\n",
    "    \"n_smr_hidden_lyrs\": 1,\n",
    "    \"n_epochs\": 100,\n",
    "    \"batch_size\": 20,\n",
    "    \"train_ratio\": 0.8,\n",
    "}\n",
    "# Create an instance of your model\n",
    "model = MtlCascadeModel(hyper_parameters)\n",
    "\n",
    "# Load the state dict onto the model\n",
    "state_dict = torch.load(state_dict_path)\n",
    "model.load_state_dict(state_dict)\n",
    "\n",
    "# Now, you can use your model for inference or further training\n"
   ]
  },
  {
   "cell_type": "code",
   "execution_count": 12,
   "metadata": {},
   "outputs": [],
   "source": [
    "def evaluate(model, test_loader):\n",
    "    model.eval()\n",
    "    c = 0\n",
    "    for data in test_loader:\n",
    "        # Unpack the data\n",
    "        feature, targets = data\n",
    "        # Forward pass\n",
    "        predictions = model(feature)\n",
    "        c = c+1\n",
    "        if c == 2:\n",
    "            break\n",
    "    return predictions, targets"
   ]
  },
  {
   "cell_type": "code",
   "execution_count": 13,
   "metadata": {},
   "outputs": [],
   "source": [
    "pred, targ =evaluate(model, test_loader)"
   ]
  },
  {
   "cell_type": "code",
   "execution_count": 14,
   "metadata": {},
   "outputs": [
    {
     "name": "stdout",
     "output_type": "stream",
     "text": [
      "[[7.656785e-05]]\n",
      "[[5.27256353e-13]]\n",
      "[[0.34927204 0.34968373]]\n"
     ]
    }
   ],
   "source": [
    "pred_num = pred[0].detach().numpy()\n",
    "print(pred[0].detach().numpy())\n",
    "print(pred[1].detach().numpy().astype(float))\n",
    "print(pred[2].detach().numpy())\n"
   ]
  },
  {
   "cell_type": "code",
   "execution_count": 9,
   "metadata": {},
   "outputs": [
    {
     "name": "stdout",
     "output_type": "stream",
     "text": [
      "[[1.]]\n"
     ]
    }
   ],
   "source": [
    "pred_num = pred[0].detach().numpy()\n",
    "print(pred_num)"
   ]
  },
  {
   "cell_type": "code",
   "execution_count": 10,
   "metadata": {},
   "outputs": [
    {
     "data": {
      "text/plain": [
       "('speech',)"
      ]
     },
     "execution_count": 10,
     "metadata": {},
     "output_type": "execute_result"
    }
   ],
   "source": [
    "targ"
   ]
  },
  {
   "cell_type": "code",
   "execution_count": 11,
   "metadata": {},
   "outputs": [
    {
     "name": "stdout",
     "output_type": "stream",
     "text": [
      "Precision: 0.6666666865348816\n",
      "Recall: 0.6666666865348816\n",
      "F1 Score: 0.6666666865348816\n"
     ]
    }
   ],
   "source": [
    "# Example usage:\n",
    "predictions = torch.tensor([0, 1, 1, 0, 1])\n",
    "targets = torch.tensor([0, 1, 0, 1, 1])\n",
    "\n",
    "precision, recall, f1_score = calculate_metrics(predictions, targets)\n",
    "print(\"Precision:\", precision)\n",
    "print(\"Recall:\", recall)\n",
    "print(\"F1 Score:\", f1_score)\n"
   ]
  },
  {
   "cell_type": "code",
   "execution_count": null,
   "metadata": {},
   "outputs": [],
   "source": []
  }
 ],
 "metadata": {
  "kernelspec": {
   "display_name": "Python 3",
   "language": "python",
   "name": "python3"
  },
  "language_info": {
   "codemirror_mode": {
    "name": "ipython",
    "version": 3
   },
   "file_extension": ".py",
   "mimetype": "text/x-python",
   "name": "python",
   "nbconvert_exporter": "python",
   "pygments_lexer": "ipython3",
   "version": "3.9.19"
  }
 },
 "nbformat": 4,
 "nbformat_minor": 2
}
