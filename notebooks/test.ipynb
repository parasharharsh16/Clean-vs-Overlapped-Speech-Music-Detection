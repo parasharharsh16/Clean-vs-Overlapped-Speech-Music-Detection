{
 "cells": [
  {
   "cell_type": "code",
   "execution_count": 11,
   "metadata": {},
   "outputs": [],
   "source": [
    "import librosa\n",
    "import torchaudio\n",
    "import numpy as np\n",
    "import random\n",
    "# Define the frame size and sampling rate\n",
    "frame_size = 32000  # for example, 1 second of audio at 16 kHz\n",
    "sampling_rate = 16000  # assuming both files have the same sampling rate\n",
    "\n",
    "\n",
    "speech_audio_path = \"data/musan/musan/speech/librivox/speech-librivox-0004.wav\"\n",
    "music_audio_path = \"data/musan/musan/music/fma/music-fma-0006.wav\"\n",
    "def change_volume(audio_signal, sr, change_db):\n",
    "    # Calculate the amplitude ratio from the decibel change\n",
    "    amplitude_ratio = 10 ** (change_db / 20)\n",
    "    # Apply the amplitude ratio to the audio signal\n",
    "    return audio_signal * amplitude_ratio\n",
    "\n",
    "def normalize_audio(audio_signal):\n",
    "    # Find the maximum absolute value in the signal\n",
    "    max_val = np.max(np.abs(audio_signal))\n",
    "    # Scale the signal so that the maximum absolute value is 1.0\n",
    "    normalized_signal = audio_signal / max_val\n",
    "    return normalized_signal\n",
    "# Load the music and speech files\n",
    "music, sr_music= librosa.load(music_audio_path , sr=sampling_rate, mono=True)\n",
    "speech, sr_speech = librosa.load(speech_audio_path, sr=sampling_rate, mono=True)\n",
    "\n",
    "# Randomly choose a decibel change between -5 dB and 5 dB for variation\n",
    "db_change_music = random.uniform(-5, 5)\n",
    "db_change_speech = random.uniform(-5, 5)\n",
    "\n",
    "# Change the volume of music and speech\n",
    "music = change_volume(music, sr_music, db_change_music)\n",
    "speech = change_volume(speech, sr_speech, db_change_speech)\n",
    "\n",
    "\n",
    "music = normalize_audio(music)\n",
    "speech = normalize_audio(speech)\n",
    "\n",
    "# Select a random frame from the music file\n",
    "start_frame = random.randint(0, len(music) - frame_size)\n",
    "music_frame = music[start_frame:start_frame + frame_size]\n",
    "\n",
    "# If the speech file is shorter than the music frame, pad it with zeros\n",
    "if len(speech) < frame_size:\n",
    "    speech = np.pad(speech, (0, max(0, frame_size - len(speech))), 'constant')\n",
    "\n",
    "# Mix the music frame with the speech signal\n",
    "mixed_signal = (music_frame + speech[:frame_size]) / 2\n",
    "\n",
    "# Convert the mixed signal to mono if it's stereo using torchaudio\n",
    "if mixed_signal.ndim == 2:\n",
    "    mixed_signal = torchaudio.transforms.DownmixMono(channels_first=True)(mixed_signal)\n",
    "\n",
    "import soundfile as sf\n",
    "# Save the mixed signal to a new audio file\n",
    "sf.write('mixed_audio_file2.wav', mixed_signal, sampling_rate)"
   ]
  },
  {
   "cell_type": "code",
   "execution_count": null,
   "metadata": {},
   "outputs": [],
   "source": []
  }
 ],
 "metadata": {
  "kernelspec": {
   "display_name": "Python 3",
   "language": "python",
   "name": "python3"
  },
  "language_info": {
   "codemirror_mode": {
    "name": "ipython",
    "version": 3
   },
   "file_extension": ".py",
   "mimetype": "text/x-python",
   "name": "python",
   "nbconvert_exporter": "python",
   "pygments_lexer": "ipython3",
   "version": "3.9.19"
  }
 },
 "nbformat": 4,
 "nbformat_minor": 2
}
