{
 "cells": [
  {
   "cell_type": "code",
   "execution_count": 1,
   "metadata": {},
   "outputs": [],
   "source": [
    "from dataloader import SignalDataset,dataloader \n",
    "from param import dataset_path,sample_universe_size,sampling_rate\n",
    "from utils import prepare_data, mix_signals,load_audio,load_music\n",
    "import torch\n",
    "from torch.utils.data import ConcatDataset\n",
    "import os\n",
    "from param import (\n",
    "    dataset_path,\n",
    "    sample_universe_size,\n",
    "    data_dir,\n",
    "    hyper_parameters as hp,\n",
    "    model_1,\n",
    ")\n",
    "from sklearn.metrics import f1_score, precision_score, recall_score"
   ]
  },
  {
   "cell_type": "code",
   "execution_count": 2,
   "metadata": {},
   "outputs": [],
   "source": [
    "#Call this code in train and evaluate functions (to be deleted later)\n",
    "data_dir = r\"../data\"\n",
    "model_dir = r\"../models\"\n",
    "data_file = os.path.join(data_dir, \"dataset.pth\")\n",
    "if \"dataset.pth\" in os.listdir(data_dir):\n",
    "    combined_dataset = torch.load(data_file)\n",
    "else:\n",
    "    # Prepare data\n",
    "    combination_paths = prepare_data(dataset_path)\n",
    "    sampled_df = combination_paths.sample(\n",
    "        frac=sample_universe_size, random_state=42, ignore_index=True\n",
    "    )\n",
    "    datasets_music = SignalDataset(sampled_df, data_type=\"music\")\n",
    "    datasets_speech = SignalDataset(sampled_df, data_type=\"speech\")\n",
    "    datasets_mixture = SignalDataset(sampled_df, data_type=\"mixture\")\n",
    "    combined_dataset = ConcatDataset(\n",
    "        [datasets_music, datasets_speech, datasets_mixture]\n",
    "    )\n",
    "    torch.save(combined_dataset, data_file)\n"
   ]
  },
  {
   "cell_type": "code",
   "execution_count": 3,
   "metadata": {},
   "outputs": [],
   "source": [
    "train_loader, test_loader = dataloader(\n",
    "    datasets=combined_dataset,\n",
    "    train_ratio=hp[\"train_ratio\"],\n",
    "    train_batch_size=hp[\"batch_size\"],\n",
    "    test_batch_size=1,\n",
    ")"
   ]
  },
  {
   "cell_type": "code",
   "execution_count": 5,
   "metadata": {},
   "outputs": [
    {
     "data": {
      "text/plain": [
       "<All keys matched successfully>"
      ]
     },
     "execution_count": 5,
     "metadata": {},
     "output_type": "execute_result"
    }
   ],
   "source": [
    "# Assuming your model architecture is defined in a separate file or module\n",
    "from model_architecture import MtlCascadeModel\n",
    "from param import hyper_parameters as hp\n",
    "# Path to the state dict file\n",
    "state_dict_path = '/home/hparashar/mtech_projects/speech_understanding/Speech-Understanding-Minor/model/model_0.01.pth'\n",
    "hyper_parameters = {\n",
    "    \"n_layers\": 1,\n",
    "    \"sp_hidden_nodes\": 20,\n",
    "    \"n_sp_hidden_lyrs\": 1,\n",
    "    \"mu_hidden_nodes\": 20,\n",
    "    \"n_mu_hidden_lyrs\": 1,\n",
    "    \"smr_hidden_nodes\": 20,\n",
    "    \"n_smr_hidden_lyrs\": 1,\n",
    "    \"n_epochs\": 100,\n",
    "    \"batch_size\": 20,\n",
    "    \"train_ratio\": 0.8,\n",
    "}\n",
    "# Create an instance of your model\n",
    "model = MtlCascadeModel(hyper_parameters)\n",
    "\n",
    "# Load the state dict onto the model\n",
    "state_dict = torch.load(state_dict_path)\n",
    "model.load_state_dict(state_dict)\n",
    "\n",
    "# Now, you can use your model for inference or further training\n"
   ]
  },
  {
   "cell_type": "code",
   "execution_count": 64,
   "metadata": {},
   "outputs": [],
   "source": [
    "from param import targ_dict\n",
    "def evaluate(model, test_loader):\n",
    "    model.eval()\n",
    "    su_predictions = []\n",
    "    mu_predictions = []\n",
    "    smr_predictions = []\n",
    "    su_target = []\n",
    "    mu_target = []\n",
    "    smr_target = []\n",
    "    for data in test_loader:\n",
    "        feature, target = data\n",
    "        su_pred,mu_pred,smr_pred = model(feature)\n",
    "        su_predictions.append((su_pred  > 0.5).float())\n",
    "        mu_predictions.append((mu_pred  > 0.5).float())\n",
    "        smr_predictions.append((smr_pred  > 0.5).float())\n",
    "        su_target.append(float(targ_dict[target[0]][0]))\n",
    "        mu_target.append(float(targ_dict[target[0]][1]))\n",
    "        smr_target.append(float(targ_dict[target[0]][2]))\n",
    "\n",
    "    return su_predictions, mu_predictions, smr_predictions, su_target, mu_target, smr_target"
   ]
  },
  {
   "cell_type": "code",
   "execution_count": 65,
   "metadata": {},
   "outputs": [],
   "source": [
    "su_predictions, mu_predictions, smr_predictions, su_target, mu_target, smr_target =evaluate(model, test_loader)\n"
   ]
  },
  {
   "cell_type": "code",
   "execution_count": 70,
   "metadata": {},
   "outputs": [],
   "source": [
    "def calculate_metrics(predictions, targets):\n",
    "    # Convert predictions and targets to tensors if they're not already\n",
    "    if not isinstance(predictions, torch.Tensor):\n",
    "        predictions = torch.tensor(predictions)\n",
    "    if not isinstance(targets, torch.Tensor):\n",
    "        targets = torch.tensor(targets)\n",
    "\n",
    "    # Calculate true positives, false positives, and false negatives\n",
    "    true_positives = torch.sum(predictions * targets).float()\n",
    "    false_positives = torch.sum(predictions * (1 - targets)).float()\n",
    "    false_negatives = torch.sum((1 - predictions) * targets).float()\n",
    "\n",
    "    # Calculate precision\n",
    "    precision = true_positives / (true_positives + false_positives + 1e-10)\n",
    "\n",
    "    # Calculate recall\n",
    "    recall = true_positives / (true_positives + false_negatives + 1e-10)\n",
    "\n",
    "    # Calculate F1 score\n",
    "    f1_score = 2 * (precision * recall) / (precision + recall + 1e-10)\n",
    "    accuracy = torch.sum(predictions == targets).float() / targets.numel()\n",
    "    return precision.item(), recall.item(), f1_score.item(),accuracy.item()\n",
    "\n",
    "\n"
   ]
  },
  {
   "cell_type": "code",
   "execution_count": 71,
   "metadata": {},
   "outputs": [
    {
     "name": "stdout",
     "output_type": "stream",
     "text": [
      "Precision for speech: 0.9464285969734192\n",
      "Recall for speech: 0.9137930870056152\n",
      "F1 score for speech: 0.9298245906829834\n",
      "Accuracy for speech: 0.9526627063751221\n",
      "-------------------------------------------------\n",
      "\n",
      "Precision for music: 0.698113203048706\n",
      "Recall for music: 0.7708333134651184\n",
      "F1 score for music: 0.7326732873916626\n",
      "Accuracy for music: 0.8402366638183594\n",
      "-------------------------------------------------\n",
      "\n",
      "Precision for mixed: 0.8684210777282715\n",
      "Recall for mixed: 0.523809552192688\n",
      "F1 score for mixed: 0.6534653306007385\n",
      "Accuracy for mixed: 0.7928994297981262\n",
      "-------------------------------------------------\n",
      "\n"
     ]
    }
   ],
   "source": [
    "for item in [\"speech\",\"music\",\"mixed\"]:\n",
    "    su_predictions, mu_predictions, smr_predictions, su_target, mu_target, smr_target\n",
    "    if item == \"speech\":\n",
    "        predictions = su_predictions\n",
    "        targets = su_target\n",
    "    elif item == \"music\":\n",
    "        predictions = mu_predictions\n",
    "        targets = mu_target\n",
    "    else:\n",
    "        predictions = smr_predictions\n",
    "        targets = smr_target\n",
    "    precision, recall, f1_score,accuracy  = calculate_metrics(predictions, targets)\n",
    "    print(f\"Precision for {item}:\", precision)\n",
    "    print(f\"Recall for {item}:\", recall)\n",
    "    print(f\"F1 score for {item}:\", f1_score)\n",
    "    print(f\"Accuracy for {item}:\", accuracy)\n",
    "    print(\"-------------------------------------------------\\n\")"
   ]
  },
  {
   "cell_type": "code",
   "execution_count": null,
   "metadata": {},
   "outputs": [],
   "source": [
    "def calculate_metrics(predictions, targets):\n",
    "    # Convert predictions and targets to tensors if they're not already\n",
    "    if not isinstance(predictions, torch.Tensor):\n",
    "        predictions = torch.tensor(predictions)\n",
    "    if not isinstance(targets, torch.Tensor):\n",
    "        targets = torch.tensor(targets)\n",
    "\n",
    "    # Calculate true positives, false positives, and false negatives\n",
    "    true_positives = torch.sum(predictions * targets).float()\n",
    "    false_positives = torch.sum(predictions * (1 - targets)).float()\n",
    "    false_negatives = torch.sum((1 - predictions) * targets).float()\n",
    "\n",
    "    # Calculate precision\n",
    "    precision = true_positives / (true_positives + false_positives + 1e-10)\n",
    "\n",
    "    # Calculate recall\n",
    "    recall = true_positives / (true_positives + false_negatives + 1e-10)\n",
    "\n",
    "    # Calculate F1 score\n",
    "    f1_score = 2 * (precision * recall) / (precision + recall + 1e-10)\n",
    "\n",
    "    # Calculate accuracy\n",
    "    \n",
    "\n",
    "    return precision.item(), recall.item(), f1_score.item(), accuracy.item()"
   ]
  }
 ],
 "metadata": {
  "kernelspec": {
   "display_name": "Python 3",
   "language": "python",
   "name": "python3"
  },
  "language_info": {
   "codemirror_mode": {
    "name": "ipython",
    "version": 3
   },
   "file_extension": ".py",
   "mimetype": "text/x-python",
   "name": "python",
   "nbconvert_exporter": "python",
   "pygments_lexer": "ipython3",
   "version": "3.9.19"
  }
 },
 "nbformat": 4,
 "nbformat_minor": 2
}
